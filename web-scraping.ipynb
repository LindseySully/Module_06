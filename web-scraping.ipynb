{
 "cells": [
  {
   "cell_type": "markdown",
   "metadata": {},
   "source": [
    "# Web Mining and Applied NLP (44-620)\n",
    "\n",
    "## Web Scraping and NLP with Requests, BeautifulSoup, and spaCy\n",
    "\n",
    "### Student Name: Lindsey Sullivan\n",
    "### GitHub Respository: https://github.com/LindseySully/Module_06\n",
    "\n",
    "Perform the tasks described in the Markdown cells below.  When you have completed the assignment make sure your code cells have all been run (and have output beneath them) and ensure you have committed and pushed ALL of your changes to your assignment repository.\n",
    "\n",
    "Every question that requires you to write code will have a code cell underneath it; you may either write your entire solution in that cell or write it in a python file (`.py`), then import and run the appropriate code to answer the question."
   ]
  },
  {
   "cell_type": "markdown",
   "metadata": {},
   "source": [
    "### Prerequisites\n"
   ]
  },
  {
   "cell_type": "code",
   "execution_count": 152,
   "metadata": {},
   "outputs": [
    {
     "name": "stdout",
     "output_type": "stream",
     "text": [
      "Package                       Version\n",
      "----------------------------- ---------------\n",
      "alabaster                     0.7.12\n",
      "anaconda-client               1.11.2\n",
      "anaconda-navigator            2.4.0\n",
      "anaconda-project              0.11.1\n",
      "anyio                         3.5.0\n",
      "appdirs                       1.4.4\n",
      "argon2-cffi                   21.3.0\n",
      "argon2-cffi-bindings          21.2.0\n",
      "arrow                         1.2.3\n",
      "astroid                       2.14.2\n",
      "astropy                       5.1\n",
      "asttokens                     2.0.5\n",
      "atomicwrites                  1.4.0\n",
      "attrs                         22.1.0\n",
      "Automat                       20.2.0\n",
      "autopep8                      1.6.0\n",
      "Babel                         2.11.0\n",
      "backcall                      0.2.0\n",
      "backports.functools-lru-cache 1.6.4\n",
      "backports.tempfile            1.0\n",
      "backports.weakref             1.0.post1\n",
      "bcrypt                        3.2.0\n",
      "beautifulsoup4                4.11.1\n",
      "binaryornot                   0.4.4\n",
      "black                         22.6.0\n",
      "bleach                        4.1.0\n",
      "blis                          0.7.9\n",
      "bokeh                         2.4.3\n",
      "boltons                       23.0.0\n",
      "Bottleneck                    1.3.5\n",
      "brotlipy                      0.7.0\n",
      "catalogue                     2.0.8\n",
      "certifi                       2022.12.7\n",
      "cffi                          1.15.1\n",
      "chardet                       4.0.0\n",
      "charset-normalizer            2.0.4\n",
      "click                         8.0.4\n",
      "cloudpickle                   2.0.0\n",
      "clyent                        1.2.2\n",
      "colorama                      0.4.6\n",
      "colorcet                      3.0.1\n",
      "comm                          0.1.2\n",
      "conda                         23.3.1\n",
      "conda-build                   3.24.0\n",
      "conda-content-trust           0.1.3\n",
      "conda-pack                    0.6.0\n",
      "conda-package-handling        2.0.2\n",
      "conda_package_streaming       0.7.0\n",
      "conda-repo-cli                1.0.41\n",
      "conda-token                   0.4.0\n",
      "conda-verify                  3.4.2\n",
      "confection                    0.1.0\n",
      "constantly                    15.1.0\n",
      "contourpy                     1.0.5\n",
      "cookiecutter                  1.7.3\n",
      "cryptography                  39.0.1\n",
      "cssselect                     1.1.0\n",
      "cycler                        0.11.0\n",
      "cymem                         2.0.7\n",
      "cytoolz                       0.12.0\n",
      "daal4py                       2023.0.2\n",
      "dask                          2022.7.0\n",
      "datashader                    0.14.4\n",
      "datashape                     0.5.4\n",
      "debugpy                       1.5.1\n",
      "decorator                     5.1.1\n",
      "defusedxml                    0.7.1\n",
      "diff-match-patch              20200713\n",
      "dill                          0.3.6\n",
      "distributed                   2022.7.0\n",
      "docstring-to-markdown         0.11\n",
      "docutils                      0.18.1\n",
      "en-core-web-sm                3.6.0\n",
      "entrypoints                   0.4\n",
      "et-xmlfile                    1.1.0\n",
      "executing                     0.8.3\n",
      "fastjsonschema                2.16.2\n",
      "filelock                      3.9.0\n",
      "flake8                        6.0.0\n",
      "Flask                         2.2.2\n",
      "flit_core                     3.6.0\n",
      "fonttools                     4.25.0\n",
      "fsspec                        2022.11.0\n",
      "future                        0.18.3\n",
      "gensim                        4.3.0\n",
      "glob2                         0.7\n",
      "greenlet                      2.0.1\n",
      "h5py                          3.7.0\n",
      "HeapDict                      1.0.1\n",
      "holoviews                     1.15.4\n",
      "huggingface-hub               0.10.1\n",
      "hvplot                        0.8.2\n",
      "hyperlink                     21.0.0\n",
      "idna                          3.4\n",
      "imagecodecs                   2021.8.26\n",
      "imageio                       2.26.0\n",
      "imagesize                     1.4.1\n",
      "imbalanced-learn              0.10.1\n",
      "importlib-metadata            4.11.3\n",
      "incremental                   21.3.0\n",
      "inflection                    0.5.1\n",
      "iniconfig                     1.1.1\n",
      "intake                        0.6.7\n",
      "intervaltree                  3.1.0\n",
      "ipykernel                     6.19.2\n",
      "ipython                       8.10.0\n",
      "ipython-genutils              0.2.0\n",
      "ipywidgets                    7.6.5\n",
      "isort                         5.9.3\n",
      "itemadapter                   0.3.0\n",
      "itemloaders                   1.0.4\n",
      "itsdangerous                  2.0.1\n",
      "jedi                          0.18.1\n",
      "jellyfish                     0.9.0\n",
      "Jinja2                        3.1.2\n",
      "jinja2-time                   0.2.0\n",
      "jmespath                      0.10.0\n",
      "joblib                        1.1.1\n",
      "json5                         0.9.6\n",
      "jsonpatch                     1.32\n",
      "jsonpointer                   2.1\n",
      "jsonschema                    4.17.3\n",
      "jupyter                       1.0.0\n",
      "jupyter_client                7.3.4\n",
      "jupyter-console               6.6.2\n",
      "jupyter_core                  5.2.0\n",
      "jupyter-server                1.23.4\n",
      "jupyterlab                    3.5.3\n",
      "jupyterlab-pygments           0.1.2\n",
      "jupyterlab_server             2.19.0\n",
      "jupyterlab-widgets            1.0.0\n",
      "keyring                       23.4.0\n",
      "kiwisolver                    1.4.4\n",
      "langcodes                     3.3.0\n",
      "lazy-object-proxy             1.6.0\n",
      "libarchive-c                  2.9\n",
      "llvmlite                      0.39.1\n",
      "locket                        1.0.0\n",
      "lxml                          4.9.1\n",
      "lyricsgenius                  3.0.1\n",
      "lz4                           3.1.3\n",
      "Markdown                      3.4.1\n",
      "MarkupSafe                    2.1.1\n",
      "matplotlib                    3.7.0\n",
      "matplotlib-inline             0.1.6\n",
      "mccabe                        0.7.0\n",
      "menuinst                      1.4.19\n",
      "mistune                       0.8.4\n",
      "mkl-fft                       1.3.1\n",
      "mkl-random                    1.2.2\n",
      "mkl-service                   2.4.0\n",
      "mock                          4.0.3\n",
      "mpmath                        1.2.1\n",
      "msgpack                       1.0.3\n",
      "multipledispatch              0.6.0\n",
      "munkres                       1.1.4\n",
      "murmurhash                    1.0.9\n",
      "mypy-extensions               0.4.3\n",
      "navigator-updater             0.3.0\n",
      "nbclassic                     0.5.2\n",
      "nbclient                      0.5.13\n",
      "nbconvert                     6.5.4\n",
      "nbformat                      5.7.0\n",
      "nest-asyncio                  1.5.6\n",
      "networkx                      2.8.4\n",
      "nltk                          3.7\n",
      "notebook                      6.5.2\n",
      "notebook_shim                 0.2.2\n",
      "numba                         0.56.4\n",
      "numexpr                       2.8.4\n",
      "numpy                         1.23.5\n",
      "numpydoc                      1.5.0\n",
      "openpyxl                      3.0.10\n",
      "packaging                     22.0\n",
      "pandas                        1.5.3\n",
      "pandocfilters                 1.5.0\n",
      "panel                         0.14.3\n",
      "param                         1.12.3\n",
      "paramiko                      2.8.1\n",
      "parsel                        1.6.0\n",
      "parso                         0.8.3\n",
      "partd                         1.2.0\n",
      "pathlib                       1.0.1\n",
      "pathspec                      0.10.3\n",
      "pathy                         0.10.2\n",
      "patsy                         0.5.3\n",
      "pep8                          1.7.1\n",
      "pexpect                       4.8.0\n",
      "pickleshare                   0.7.5\n",
      "Pillow                        9.4.0\n",
      "pip                           22.3.1\n",
      "pkginfo                       1.9.6\n",
      "platformdirs                  2.5.2\n",
      "plotly                        5.9.0\n",
      "pluggy                        1.0.0\n",
      "ply                           3.11\n",
      "pooch                         1.4.0\n",
      "poyo                          0.5.0\n",
      "preshed                       3.0.8\n",
      "prometheus-client             0.14.1\n",
      "prompt-toolkit                3.0.36\n",
      "Protego                       0.1.16\n",
      "psutil                        5.9.0\n",
      "psycopg2                      2.9.6\n",
      "ptyprocess                    0.7.0\n",
      "pure-eval                     0.2.2\n",
      "py                            1.11.0\n",
      "pyasn1                        0.4.8\n",
      "pyasn1-modules                0.2.8\n",
      "pycodestyle                   2.10.0\n",
      "pycosat                       0.6.4\n",
      "pycparser                     2.21\n",
      "pyct                          0.5.0\n",
      "pycurl                        7.45.1\n",
      "pydantic                      1.10.11\n",
      "PyDispatcher                  2.0.5\n",
      "pydocstyle                    6.3.0\n",
      "pyerfa                        2.0.0\n",
      "pyflakes                      3.0.1\n",
      "Pygments                      2.11.2\n",
      "PyHamcrest                    2.0.2\n",
      "PyJWT                         2.4.0\n",
      "pylint                        2.16.2\n",
      "pylint-venv                   2.3.0\n",
      "pyls-spyder                   0.4.0\n",
      "PyNaCl                        1.5.0\n",
      "pyodbc                        4.0.34\n",
      "pyOpenSSL                     23.0.0\n",
      "pyparsing                     3.0.9\n",
      "PyQt5                         5.15.7\n",
      "PyQt5-sip                     12.11.0\n",
      "PyQtWebEngine                 5.15.4\n",
      "pyrsistent                    0.18.0\n",
      "PySocks                       1.7.1\n",
      "pytest                        7.1.2\n",
      "python-dateutil               2.8.2\n",
      "python-lsp-black              1.2.1\n",
      "python-lsp-jsonrpc            1.0.0\n",
      "python-lsp-server             1.7.1\n",
      "python-slugify                5.0.2\n",
      "python-snappy                 0.6.1\n",
      "pytoolconfig                  1.2.5\n",
      "pytz                          2022.7\n",
      "pyviz-comms                   2.0.2\n",
      "PyWavelets                    1.4.1\n",
      "pywin32                       305.1\n",
      "pywin32-ctypes                0.2.0\n",
      "pywinpty                      2.0.10\n",
      "PyYAML                        6.0\n",
      "pyzmq                         23.2.0\n",
      "QDarkStyle                    3.0.2\n",
      "qstylizer                     0.2.2\n",
      "QtAwesome                     1.2.2\n",
      "qtconsole                     5.4.0\n",
      "QtPy                          2.2.0\n",
      "queuelib                      1.5.0\n",
      "regex                         2022.7.9\n",
      "requests                      2.28.1\n",
      "requests-file                 1.5.1\n",
      "requests-toolbelt             0.9.1\n",
      "rope                          1.7.0\n",
      "Rtree                         1.0.1\n",
      "ruamel.yaml                   0.17.21\n",
      "ruamel.yaml.clib              0.2.6\n",
      "ruamel-yaml-conda             0.17.21\n",
      "scikit-image                  0.19.3\n",
      "scikit-learn                  1.2.1\n",
      "scikit-learn-intelex          20230228.214818\n",
      "scipy                         1.10.0\n",
      "Scrapy                        2.8.0\n",
      "seaborn                       0.12.2\n",
      "Send2Trash                    1.8.0\n",
      "service-identity              18.1.0\n",
      "setuptools                    65.6.3\n",
      "sip                           6.6.2\n",
      "six                           1.16.0\n",
      "smart-open                    5.2.1\n",
      "sniffio                       1.2.0\n",
      "snowballstemmer               2.2.0\n",
      "sortedcontainers              2.4.0\n",
      "soupsieve                     2.3.2.post1\n",
      "spacy                         3.6.0\n",
      "spacy-legacy                  3.0.12\n",
      "spacy-loggers                 1.0.4\n",
      "spacytextblob                 4.0.0\n",
      "Sphinx                        5.0.2\n",
      "sphinxcontrib-applehelp       1.0.2\n",
      "sphinxcontrib-devhelp         1.0.2\n",
      "sphinxcontrib-htmlhelp        2.0.0\n",
      "sphinxcontrib-jsmath          1.0.1\n",
      "sphinxcontrib-qthelp          1.0.3\n",
      "sphinxcontrib-serializinghtml 1.1.5\n",
      "spyder                        5.4.1\n",
      "spyder-kernels                2.4.1\n",
      "SQLAlchemy                    1.4.39\n",
      "srsly                         2.4.6\n",
      "stack-data                    0.2.0\n",
      "statsmodels                   0.13.5\n",
      "sympy                         1.11.1\n",
      "tables                        3.7.0\n",
      "tabulate                      0.8.10\n",
      "TBB                           0.2\n",
      "tblib                         1.7.0\n",
      "tenacity                      8.0.1\n",
      "terminado                     0.17.1\n",
      "text-unidecode                1.3\n",
      "textblob                      0.15.3\n",
      "textdistance                  4.2.1\n",
      "thinc                         8.1.10\n",
      "threadpoolctl                 2.2.0\n",
      "three-merge                   0.1.1\n",
      "tifffile                      2021.7.2\n",
      "tinycss2                      1.2.1\n",
      "tldextract                    3.2.0\n",
      "tokenizers                    0.11.4\n",
      "toml                          0.10.2\n",
      "tomli                         2.0.1\n",
      "tomlkit                       0.11.1\n",
      "toolz                         0.12.0\n",
      "torch                         1.12.1\n",
      "tornado                       6.1\n",
      "tqdm                          4.64.1\n",
      "traitlets                     5.7.1\n",
      "transformers                  4.24.0\n",
      "Twisted                       22.2.0\n",
      "twisted-iocpsupport           1.0.2\n",
      "typer                         0.9.0\n",
      "typing_extensions             4.4.0\n",
      "ujson                         5.4.0\n",
      "Unidecode                     1.2.0\n",
      "urllib3                       1.26.14\n",
      "w3lib                         1.21.0\n",
      "wasabi                        1.1.2\n",
      "watchdog                      2.1.6\n",
      "wcwidth                       0.2.5\n",
      "webencodings                  0.5.1\n",
      "websocket-client              0.58.0\n",
      "Werkzeug                      2.2.2\n",
      "whatthepatch                  1.0.2\n",
      "wheel                         0.38.4\n",
      "widgetsnbextension            3.5.2\n",
      "win-inet-pton                 1.1.0\n",
      "wincertstore                  0.2\n",
      "wrapt                         1.14.1\n",
      "xarray                        2022.11.0\n",
      "xlwings                       0.29.1\n",
      "yapf                          0.31.0\n",
      "zict                          2.1.0\n",
      "zipp                          3.11.0\n",
      "zope.interface                5.4.0\n",
      "zstandard                     0.19.0\n",
      "All prereqs installed.\n"
     ]
    }
   ],
   "source": [
    "from collections import Counter\n",
    "import pickle\n",
    "import requests\n",
    "import spacy\n",
    "from bs4 import BeautifulSoup\n",
    "import matplotlib.pyplot as plt\n",
    "\n",
    "!pip list\n",
    "\n",
    "print('All prereqs installed.')"
   ]
  },
  {
   "cell_type": "markdown",
   "metadata": {},
   "source": [
    "### Question 1"
   ]
  },
  {
   "cell_type": "markdown",
   "metadata": {},
   "source": [
    "1. Write code that extracts the article html from https://web.archive.org/web/20210327165005/https://hackaday.com/2021/03/22/how-laser-headlights-work/ and dumps it to a .pkl (or other appropriate file)"
   ]
  },
  {
   "cell_type": "code",
   "execution_count": 153,
   "metadata": {},
   "outputs": [],
   "source": [
    "#parser = html5lib\n",
    "parser = 'html.parser'\n",
    "\n",
    "article_page = requests.get('https://web.archive.org/web/20210327165005/https://hackaday.com/2021/03/22/how-laser-headlights-work/')\n",
    "article_html = article_page.text\n",
    "\n",
    "with open('laser-headlights.pkl','wb') as f:\n",
    "    pickle.dump(article_page.text,f)"
   ]
  },
  {
   "cell_type": "markdown",
   "metadata": {},
   "source": [
    "### Question 2"
   ]
  },
  {
   "cell_type": "markdown",
   "metadata": {},
   "source": [
    "2. Read in your article's html source from the file you created in question 1 and print it's text (use `.get_text()`)"
   ]
  },
  {
   "cell_type": "code",
   "execution_count": 154,
   "metadata": {},
   "outputs": [],
   "source": [
    "with open('laser-headlights.pkl', 'rb') as f:\n",
    "    article_html = pickle.load(f)"
   ]
  },
  {
   "cell_type": "code",
   "execution_count": 155,
   "metadata": {},
   "outputs": [],
   "source": [
    "soup = BeautifulSoup(article_html,parser)"
   ]
  },
  {
   "cell_type": "code",
   "execution_count": 156,
   "metadata": {},
   "outputs": [
    {
     "name": "stdout",
     "output_type": "stream",
     "text": [
      "<article class=\"post-466450 post type-post status-publish format-standard has-post-thumbnail hentry category-car-hacks category-engineering category-featured category-laser-hacks category-slider tag-laser tag-laser-headlight tag-laser-headlights tag-light\" id=\"post-466450\" itemscope=\"\" itemtype=\"http://schema.org/Article\">\n",
      "<header class=\"entry-header\">\n",
      "<h1 class=\"entry-title\" itemprop=\"name\">How Laser Headlights Work</h1>\n",
      "<div class=\"entry-meta\">\n",
      "<a class=\"comments-counts\" href=\"https://web.archive.org/web/20210327165005/https://hackaday.com/2021/03/22/how-laser-headlights-work/#comments\"><span class=\"icon-hackaday icon-hackaday-comment\"></span>\n",
      "                130 Comments            </a>\n",
      "<ul class=\"meta-authors vcard author\">\n",
      "<li>by:</li>\n",
      "<span class=\"fn\"><a class=\"author url fn\" href=\"https://web.archive.org/web/20210327165005/https://hackaday.com/author/lewinday/\" rel=\"author\" title=\"Posts by Lewin Day\">Lewin Day</a></span>\n",
      "</ul>\n",
      "</div><!-- .entry-meta -->\n",
      "<div class=\"entry-meta entry-meta-last\">\n",
      "<span class=\"entry-date published updated\" content=\"March 22, 2021\" itemprop=\"datePublished\"><a href=\"https://web.archive.org/web/20210327165005/https://hackaday.com/2021/03/22/\" title=\"March 22, 2021 - 7:01 am\">March 22, 2021</a></span>\n",
      "<ul class=\"share-post\">\n",
      "<li><a href=\"https://web.archive.org/web/20210327165005/https://www.facebook.com/sharer/sharer.php?u=https%3A%2F%2Fhackaday.com%2F2021%2F03%2F22%2Fhow-laser-headlights-work%2F\" target=\"_blank\"><span class=\"icon-hackaday icon-hackaday-facebook\"></span></a></li>\n",
      "<li><a href=\"https://web.archive.org/web/20210327165005/https://twitter.com/intent/tweet?text=How+Laser+Headlights+Work via @hackaday&amp;url=https%3A%2F%2Fhackaday.com%2F2021%2F03%2F22%2Fhow-laser-headlights-work%2F\" target=\"_blank\"><span class=\"icon-hackaday icon-hackaday-twitter\"></span></a></li>\n",
      "</ul>\n",
      "</div><!-- .entry-meta -->\n",
      "<div class=\"entry-featured-image\"><img alt=\"\" content=\"https://hackaday.com/wp-content/uploads/2021/03/LaserHeadlight-thumb.jpg?w=600&amp;h=600\" itemprop=\"image\" src=\"https://web.archive.org/web/20210327165005im_/https://hackaday.com/wp-content/uploads/2021/03/LaserHeadlight.jpg?w=800\"/></div>\n",
      "</header><!-- .entry-header -->\n",
      "<div class=\"entry-content\" itemprop=\"articleBody\">\n",
      "<p>When we think about the onward march of automotive technology, headlights aren’t usually the first thing that come to mind. Engines, fuel efficiency, and the switch to electric power are all more front of mind. However, that doesn’t mean there aren’t thousands of engineers around the world working to improve the state of the art in automotive lighting day in, day out.</p>\n",
      "<p>Sealed beam headlights gave way to more modern designs once regulations loosened up, while bulbs moved from simple halogens to xenon HIDs and, more recently, LEDs. Now, a new technology is on the scene, with lasers!</p>\n",
      "<p><span id=\"more-466450\"></span></p>\n",
      "<h2>Laser Headlights?!</h2>\n",
      "<figure aria-describedby=\"caption-attachment-466463\" class=\"wp-caption alignright\" id=\"attachment_466463\" style=\"width: 290px\"><img alt=\"\" class=\"size-medium wp-image-466463\" data-attachment-id=\"466463\" data-comments-opened=\"1\" data-image-description=\"\" data-image-meta='{\"aperture\":\"0\",\"credit\":\"\",\"camera\":\"\",\"caption\":\"\",\"created_timestamp\":\"0\",\"copyright\":\"\",\"focal_length\":\"0\",\"iso\":\"0\",\"shutter_speed\":\"0\",\"title\":\"\",\"orientation\":\"0\"}' data-image-title=\"laser light bwm proto 2\" data-large-file=\"https://web.archive.org/web/20210327165005/https://hackaday.com/wp-content/uploads/2021/03/laser-light-bwm-proto-2.jpg?w=290\" data-medium-file=\"https://web.archive.org/web/20210327165005/https://hackaday.com/wp-content/uploads/2021/03/laser-light-bwm-proto-2.jpg?w=290\" data-orig-file=\"https://web.archive.org/web/20210327165005/https://hackaday.com/wp-content/uploads/2021/03/laser-light-bwm-proto-2.jpg\" data-orig-size=\"290,193\" data-permalink=\"https://web.archive.org/web/20210327165005/https://hackaday.com/2021/03/22/how-laser-headlights-work/laser-light-bwm-proto-2/\" height=\"193\" loading=\"lazy\" sizes=\"(max-width: 290px) 100vw, 290px\" src=\"https://web.archive.org/web/20210327165005im_/https://hackaday.com/wp-content/uploads/2021/03/laser-light-bwm-proto-2.jpg?w=290\" srcset=\"https://web.archive.org/web/20210327165005im_/https://hackaday.com/wp-content/uploads/2021/03/laser-light-bwm-proto-2.jpg 290w, https://web.archive.org/web/20210327165005im_/https://hackaday.com/wp-content/uploads/2021/03/laser-light-bwm-proto-2.jpg?resize=250,166 250w\" width=\"290\"><figcaption class=\"wp-caption-text\" id=\"caption-attachment-466463\">BWM’s prototype laser headlight assemblies undergoing testing.</figcaption></img></figure>\n",
      "<p>The first image brought to mind by the phrase “laser headlights” is that of laser beams firing out the front of an automobile. Obviously, coherent beams of monochromatic light would make for poor illumination outside of a very specific spot quite some distance away. Thankfully for our eyes, laser headlights don’t work in this way at all.</p>\n",
      "<p>Instead, laser headlights consist of one or more solid state laser diodes mounted inside the headlight. These blue lasers are fired at a yellow phosphor, similar to that used in white LEDs. This produces a powerful, vibrant white light that can then be bounced off reflectors and out of the headlights towards the road. Laser headlights built in this way have several benefits. They’re more energy efficient than LEDs that put out the same amount of light, while also being more space efficient, too.</p>\n",
      "<figure aria-describedby=\"caption-attachment-466464\" class=\"wp-caption alignleft\" id=\"attachment_466464\" style=\"width: 400px\"><img alt=\"\" class=\"size-medium wp-image-466464\" data-attachment-id=\"466464\" data-comments-opened=\"1\" data-image-description=\"\" data-image-meta='{\"aperture\":\"0\",\"credit\":\"\",\"camera\":\"\",\"caption\":\"\",\"created_timestamp\":\"0\",\"copyright\":\"\",\"focal_length\":\"0\",\"iso\":\"0\",\"shutter_speed\":\"0\",\"title\":\"\",\"orientation\":\"0\"}' data-image-title=\"laser headlight bmw i8\" data-large-file=\"https://web.archive.org/web/20210327165005/https://hackaday.com/wp-content/uploads/2021/03/laser-headlight-bmw-i8.jpg?w=800\" data-medium-file=\"https://web.archive.org/web/20210327165005/https://hackaday.com/wp-content/uploads/2021/03/laser-headlight-bmw-i8.jpg?w=400\" data-orig-file=\"https://web.archive.org/web/20210327165005/https://hackaday.com/wp-content/uploads/2021/03/laser-headlight-bmw-i8.jpg\" data-orig-size=\"1900,1265\" data-permalink=\"https://web.archive.org/web/20210327165005/https://hackaday.com/2021/03/22/how-laser-headlights-work/laser-headlight-bmw-i8/\" height=\"266\" loading=\"lazy\" sizes=\"(max-width: 400px) 100vw, 400px\" src=\"https://web.archive.org/web/20210327165005im_/https://hackaday.com/wp-content/uploads/2021/03/laser-headlight-bmw-i8.jpg?w=400\" srcset=\"https://web.archive.org/web/20210327165005im_/https://hackaday.com/wp-content/uploads/2021/03/laser-headlight-bmw-i8.jpg 1900w, https://web.archive.org/web/20210327165005im_/https://hackaday.com/wp-content/uploads/2021/03/laser-headlight-bmw-i8.jpg?resize=250,166 250w, https://web.archive.org/web/20210327165005im_/https://hackaday.com/wp-content/uploads/2021/03/laser-headlight-bmw-i8.jpg?resize=400,266 400w, https://web.archive.org/web/20210327165005im_/https://hackaday.com/wp-content/uploads/2021/03/laser-headlight-bmw-i8.jpg?resize=800,533 800w, https://web.archive.org/web/20210327165005im_/https://hackaday.com/wp-content/uploads/2021/03/laser-headlight-bmw-i8.jpg?resize=1536,1023 1536w\" width=\"400\"><figcaption class=\"wp-caption-text\" id=\"caption-attachment-466464\">BWM’s futuristic i8 was one of the first vehicles to ship with laser headlight technology.</figcaption></img></figure>\n",
      "<p>Laser headlights are still a nascent technology, thus far only appearing in a few BMW, Audi, and other select vehicles. <a href=\"https://web.archive.org/web/20210327165005/https://www.osram.com/am/specials/trends-in-automotive-lighting/laser-light-new-headlight-technology/questions-and-answers-on-innovative-laser-technology/index.jsp\" target=\"_blank\">BMW’s technology was developed in partnership with lighting experts OSRAM</a>. In practice, a regular LED low-beam lamp is used, with the laser used to create an incredibly bright and focused spot, used for high-beams. This can provide illumination out to 600 meters ahead of the vehicle, double that of conventional LED high beams. The lights use indium gallium nitride diode lasers that were originally used in projectors, with power levels above 1 watt. One of the challenges in implementing such technology in an automotive environment is the need for it to operate at temperature extremes. While research lasers and laser pointers may primarily be used at typical room temperatures, automotive headlights must be able to withstand everything from 40 degrees below zero up to 50 degrees C. Thankfully, the laser’s high efficiency means it doesn’t have huge heat output of its own to further complicate things. Other engineering challenges involve tailoring the optics package for the rough-and-tumble, high vibration environment found in the automotive application. It’s also important to ensure, as with any such device, that the end user can’t be exposed to harmful laser radiation in the event of accident or malfunction.</p>\n",
      "<h2>Tearing Down the Laser Headlight</h2>\n",
      "<figure aria-describedby=\"caption-attachment-466457\" class=\"wp-caption alignright\" id=\"attachment_466457\" style=\"width: 400px\"><img alt=\"\" class=\"size-medium wp-image-466457\" data-attachment-id=\"466457\" data-comments-opened=\"1\" data-image-description=\"\" data-image-meta='{\"aperture\":\"0\",\"credit\":\"\",\"camera\":\"\",\"caption\":\"\",\"created_timestamp\":\"0\",\"copyright\":\"\",\"focal_length\":\"0\",\"iso\":\"0\",\"shutter_speed\":\"0\",\"title\":\"\",\"orientation\":\"0\"}' data-image-title=\"ledheadlights-aliexp\" data-large-file=\"https://web.archive.org/web/20210327165005/https://hackaday.com/wp-content/uploads/2021/03/ledheadlights-aliexp.jpg?w=625\" data-medium-file=\"https://web.archive.org/web/20210327165005/https://hackaday.com/wp-content/uploads/2021/03/ledheadlights-aliexp.jpg?w=400\" data-orig-file=\"https://web.archive.org/web/20210327165005/https://hackaday.com/wp-content/uploads/2021/03/ledheadlights-aliexp.jpg\" data-orig-size=\"930,930\" data-permalink=\"https://web.archive.org/web/20210327165005/https://hackaday.com/2021/03/22/how-laser-headlights-work/ledheadlights-aliexp/\" height=\"400\" loading=\"lazy\" sizes=\"(max-width: 400px) 100vw, 400px\" src=\"https://web.archive.org/web/20210327165005im_/https://hackaday.com/wp-content/uploads/2021/03/ledheadlights-aliexp.jpg?w=400\" srcset=\"https://web.archive.org/web/20210327165005im_/https://hackaday.com/wp-content/uploads/2021/03/ledheadlights-aliexp.jpg 930w, https://web.archive.org/web/20210327165005im_/https://hackaday.com/wp-content/uploads/2021/03/ledheadlights-aliexp.jpg?resize=250,250 250w, https://web.archive.org/web/20210327165005im_/https://hackaday.com/wp-content/uploads/2021/03/ledheadlights-aliexp.jpg?resize=400,400 400w, https://web.archive.org/web/20210327165005im_/https://hackaday.com/wp-content/uploads/2021/03/ledheadlights-aliexp.jpg?resize=625,625 625w\" width=\"400\"/><figcaption class=\"wp-caption-text\" id=\"caption-attachment-466457\">A marketing image showing the construction of an aftermarket LED/laser headlight. We’d take the laser power with a grain of salt — it’s difficult to imagine a 10 W laser shining directly on some small LEDs without melting a hole through the board in short order.</figcaption></figure>\n",
      "<p>An aftermarket has sprung up too, with delightfully innovative designs. Combined laser/LED headlights are readily available on Alibaba, <a href=\"https://web.archive.org/web/20210327165005/https://www.aliexpress.com/item/1005001889968976.html?spm=a2g0o.search0302.0.0.5bebc1d45ruE7k&amp;algo_pvid=b016ca5c-d0fe-4309-ab5f-e39ea8770c80&amp;algo_expid=b016ca5c-d0fe-4309-ab5f-e39ea8770c80-0&amp;btsid=0b0a556516155071180373533e897a&amp;ws_ab_test=searchweb0_0,searchweb201602_,searchweb201603_\" target=\"_blank\">designed as a drop in replacement for projector lamps on existing vehicles.</a> These often use an LED low-beam, and a combined LED/laser high beam, where the laser diode shoots directly at the LED phosphor to excite it further, rather than using its own. These units often also come with fan cooling to keep the laser and LEDs below their maximum operational temperature. Such developments are exciting, though it’s important to be wary of the performance of unknown aftermarket headlights. <a href=\"https://web.archive.org/web/20210327165005/https://jalopnik.com/why-most-led-headlight-upgrades-dont-really-work-an-ex-1843070472\" target=\"_blank\">Many aftermarket LED headlight “upgrades” fail to pass muster</a> when it comes to real-world performance, and there’s no reason to believe hybrid LED/laser designs will be any different. We’d love to pass a selection of these parts through <a href=\"https://web.archive.org/web/20210327165005/http://www.vdrsyd.com/ancap_datasheets/xprotocol_archive/IIHS/headlight_test_rating_protocol.pdf\" target=\"_blank\">a full IIHS test protocol</a>, but that’s sadly beyond the scope (and budget!) of this article.</p>\n",
      "<p>However, [mikeselectricstuff] has happened to lay his hands on both the BMW and aftermarket parts, <a href=\"https://web.archive.org/web/20210327165005/https://www.youtube.com/watch?v=7fRjMHtnShs\" target=\"_blank\">tearing them all down in his workshop to see what makes them tick.</a> The differences are multitude when laid bare on the bench. The AliExpress part is relatively simple, wired up no differently from a regular headlight. Interestingly, however, the laser high-beam circuit runs all the time in these parts. To prevent blinding other road users, a shutter is kept in place to block the light, which is moved out of the way with a solenoid when the driver turns on the high beam switch.</p>\n",
      "<p>Where the aftermarket part is a little out of left field, the BMW design is another thing entirely. The cutting-edge headlights are hooked up with multiple connectors and over 30 conductors, with much of the driver electronics living in an external controller. Much of this is to drive the various LEDs and stepper motors for slewing the headlights when steering. However, the laser assembly brings its own complexities. Twin light sensors are built inside to monitor the laser beam, and a special metal blocking arm sits directly in front of the diode, presumably to stop the laser light leaving the headlight in the event the phosphor coating burns through. It’s truly wild to get a look inside a modern luxury car’s headlight and see just how far we’ve come from the old days of simple sealed beams.</p>\n",
      "<h2>Cost Versus Performance</h2>\n",
      "<p>Despite the efficiency gains available, the technology remains expensive. Powerful laser diodes don’t come cheap, after all. However, as the technology trickles down to lower-end models, it’s likely that we could see economies of scale change that for the better. Indeed, if national authorities begin to demand higher performance headlights as standard, we could see laser headlights become the norm, rather than an expensive luxury. The technology could naturally be applied to home and commercial lighting, too — though we suspect the potential gains are limited enough that LED lighting will remain the norm for some time to come.</p>\n",
      "<figure aria-describedby=\"caption-attachment-466459\" class=\"wp-caption alignright\" id=\"attachment_466459\" style=\"width: 400px\"><img alt=\"\" class=\"size-medium wp-image-466459\" data-attachment-id=\"466459\" data-comments-opened=\"1\" data-image-description=\"\" data-image-meta='{\"aperture\":\"0\",\"credit\":\"\",\"camera\":\"\",\"caption\":\"\",\"created_timestamp\":\"0\",\"copyright\":\"\",\"focal_length\":\"0\",\"iso\":\"0\",\"shutter_speed\":\"0\",\"title\":\"\",\"orientation\":\"0\"}' data-image-title=\"laser headlights bmw laser\" data-large-file=\"https://web.archive.org/web/20210327165005/https://hackaday.com/wp-content/uploads/2021/03/laser-headlights-bmw-laser.jpg?w=796\" data-medium-file=\"https://web.archive.org/web/20210327165005/https://hackaday.com/wp-content/uploads/2021/03/laser-headlights-bmw-laser.jpg?w=400\" data-orig-file=\"https://web.archive.org/web/20210327165005/https://hackaday.com/wp-content/uploads/2021/03/laser-headlights-bmw-laser.jpg\" data-orig-size=\"796,316\" data-permalink=\"https://web.archive.org/web/20210327165005/https://hackaday.com/2021/03/22/how-laser-headlights-work/laser-headlights-bmw-laser/\" height=\"159\" loading=\"lazy\" sizes=\"(max-width: 400px) 100vw, 400px\" src=\"https://web.archive.org/web/20210327165005im_/https://hackaday.com/wp-content/uploads/2021/03/laser-headlights-bmw-laser.jpg?w=400\" srcset=\"https://web.archive.org/web/20210327165005im_/https://hackaday.com/wp-content/uploads/2021/03/laser-headlights-bmw-laser.jpg 796w, https://web.archive.org/web/20210327165005im_/https://hackaday.com/wp-content/uploads/2021/03/laser-headlights-bmw-laser.jpg?resize=250,99 250w, https://web.archive.org/web/20210327165005im_/https://hackaday.com/wp-content/uploads/2021/03/laser-headlights-bmw-laser.jpg?resize=400,159 400w\" width=\"400\"/><figcaption class=\"wp-caption-text\" id=\"caption-attachment-466459\">The high light output of laser headlights in a compact package allows engineers greater freedom when designing the front-end of a car.</figcaption></figure>\n",
      "<p>As it currently stands, much of the appeal of the new technology is about the packaging benefits, which allow automotive designers greater freedom around the headlight area. Such concerns are less of a factor when it comes to light fittings in the home or office, or indeed, on lower-end automobiles. Regardless, it’s an exciting new application for lasers and one we’ll be sure to see more of in the future.</p>\n",
      "<p> </p>\n",
      "</div><!-- .entry-content -->\n",
      "<ul class=\"sharing\">\n",
      "<li class=\"\">\n",
      "<a class=\"facebook\" href=\"https://web.archive.org/web/20210327165005/https://www.facebook.com/sharer/sharer.php?u=https%3A%2F%2Fhackaday.com%2F2021%2F03%2F22%2Fhow-laser-headlights-work%2F\" target=\"_blank\">\n",
      "<i class=\"socicon-facebook\"><img src=\"https://web.archive.org/web/20210327165005im_/https://hackaday.com/wp-content/themes/hackaday-2/img/share_face.png\"/> </i>\n",
      "</a>\n",
      "</li>\n",
      "<li class=\"\">\n",
      "<a class=\"twitter\" href=\"https://web.archive.org/web/20210327165005/https://twitter.com/intent/tweet?text=How+Laser+Headlights+Work via @hackaday&amp;url=https%3A%2F%2Fhackaday.com%2F2021%2F03%2F22%2Fhow-laser-headlights-work%2F\" target=\"_blank\">\n",
      "<i class=\"socicon-twitter\"><img src=\"https://web.archive.org/web/20210327165005im_/https://hackaday.com/wp-content/themes/hackaday-2/img/share_twitter.png\"/></i>\n",
      "</a>\n",
      "</li>\n",
      "<li class=\"\">\n",
      "<a class=\"linkedin\" href=\"https://web.archive.org/web/20210327165005/https://www.linkedin.com/shareArticle?url=https%3A%2F%2Fhackaday.com%2F2021%2F03%2F22%2Fhow-laser-headlights-work%2F\" target=\"_blank\">\n",
      "<i class=\"socicon-linkedin\"><img src=\"https://web.archive.org/web/20210327165005im_/https://hackaday.com/wp-content/themes/hackaday-2/img/share_in.png\"/></i>\n",
      "</a>\n",
      "</li>\n",
      "<li class=\"\">\n",
      "<a class=\"mail\" href=\"https://web.archive.org/web/20210327165005/mailto:/?subject=How+Laser+Headlights+Work | Hackaday&amp;body=https%3A%2F%2Fhackaday.com%2F2021%2F03%2F22%2Fhow-laser-headlights-work%2F\">\n",
      "<i class=\"\"><img src=\"https://web.archive.org/web/20210327165005im_/https://hackaday.com/wp-content/themes/hackaday-2/img/share_mail1.png\"/></i>\n",
      "</a>\n",
      "</li>\n",
      "</ul>\n",
      "<footer class=\"entry-footer\">\n",
      "<span class=\"cat-links\">Posted in <a href=\"https://web.archive.org/web/20210327165005/https://hackaday.com/category/car-hacks/\" rel=\"category tag\">car hacks</a>, <a href=\"https://web.archive.org/web/20210327165005/https://hackaday.com/category/curated/engineering/\" rel=\"category tag\">Engineering</a>, <a href=\"https://web.archive.org/web/20210327165005/https://hackaday.com/category/featured/\" rel=\"category tag\">Featured</a>, <a href=\"https://web.archive.org/web/20210327165005/https://hackaday.com/category/laser-hacks/\" rel=\"category tag\">Laser Hacks</a>, <a href=\"https://web.archive.org/web/20210327165005/https://hackaday.com/category/slider/\" rel=\"category tag\">Slider</a></span><span class=\"tags-links\">Tagged <a href=\"https://web.archive.org/web/20210327165005/https://hackaday.com/tag/laser/\" rel=\"tag\">laser</a>, <a href=\"https://web.archive.org/web/20210327165005/https://hackaday.com/tag/laser-headlight/\" rel=\"tag\">laser headlight</a>, <a href=\"https://web.archive.org/web/20210327165005/https://hackaday.com/tag/laser-headlights/\" rel=\"tag\">laser headlights</a>, <a href=\"https://web.archive.org/web/20210327165005/https://hackaday.com/tag/light/\" rel=\"tag\">light</a></span><meta content=\"https://web.archive.org/web/20210327165005/https://hackaday.com/2021/03/22/how-laser-headlights-work/\" itemprop=\"url\"/> </footer><!-- .entry-footer -->\n",
      "</article>\n"
     ]
    }
   ],
   "source": [
    "article_element = soup.find('article')\n",
    "#displays all HTML of the article\n",
    "print(article_element)"
   ]
  },
  {
   "cell_type": "code",
   "execution_count": 157,
   "metadata": {},
   "outputs": [
    {
     "name": "stdout",
     "output_type": "stream",
     "text": [
      "\n",
      "\n",
      "How Laser Headlights Work\n",
      "\n",
      "\n",
      "                130 Comments            \n",
      "\n",
      "by:\n",
      "Lewin Day\n",
      "\n",
      "\n",
      "\n",
      "March 22, 2021\n",
      "\n",
      "\n",
      "\n",
      "\n",
      "\n",
      "\n",
      "\n",
      "\n",
      "When we think about the onward march of automotive technology, headlights aren’t usually the first thing that come to mind. Engines, fuel efficiency, and the switch to electric power are all more front of mind. However, that doesn’t mean there aren’t thousands of engineers around the world working to improve the state of the art in automotive lighting day in, day out.\n",
      "Sealed beam headlights gave way to more modern designs once regulations loosened up, while bulbs moved from simple halogens to xenon HIDs and, more recently, LEDs. Now, a new technology is on the scene, with lasers!\n",
      "\n",
      "Laser Headlights?!\n",
      "BWM’s prototype laser headlight assemblies undergoing testing.\n",
      "The first image brought to mind by the phrase “laser headlights” is that of laser beams firing out the front of an automobile. Obviously, coherent beams of monochromatic light would make for poor illumination outside of a very specific spot quite some distance away. Thankfully for our eyes, laser headlights don’t work in this way at all.\n",
      "Instead, laser headlights consist of one or more solid state laser diodes mounted inside the headlight. These blue lasers are fired at a yellow phosphor, similar to that used in white LEDs. This produces a powerful, vibrant white light that can then be bounced off reflectors and out of the headlights towards the road. Laser headlights built in this way have several benefits. They’re more energy efficient than LEDs that put out the same amount of light, while also being more space efficient, too.\n",
      "BWM’s futuristic i8 was one of the first vehicles to ship with laser headlight technology.\n",
      "Laser headlights are still a nascent technology, thus far only appearing in a few BMW, Audi, and other select vehicles. BMW’s technology was developed in partnership with lighting experts OSRAM. In practice, a regular LED low-beam lamp is used, with the laser used to create an incredibly bright and focused spot, used for high-beams. This can provide illumination out to 600 meters ahead of the vehicle, double that of conventional LED high beams. The lights use indium gallium nitride diode lasers that were originally used in projectors, with power levels above 1 watt. One of the challenges in implementing such technology in an automotive environment is the need for it to operate at temperature extremes. While research lasers and laser pointers may primarily be used at typical room temperatures, automotive headlights must be able to withstand everything from 40 degrees below zero up to 50 degrees C. Thankfully, the laser’s high efficiency means it doesn’t have huge heat output of its own to further complicate things. Other engineering challenges involve tailoring the optics package for the rough-and-tumble, high vibration environment found in the automotive application. It’s also important to ensure, as with any such device, that the end user can’t be exposed to harmful laser radiation in the event of accident or malfunction.\n",
      "Tearing Down the Laser Headlight\n",
      "A marketing image showing the construction of an aftermarket LED/laser headlight. We’d take the laser power with a grain of salt — it’s difficult to imagine a 10 W laser shining directly on some small LEDs without melting a hole through the board in short order.\n",
      "An aftermarket has sprung up too, with delightfully innovative designs. Combined laser/LED headlights are readily available on Alibaba, designed as a drop in replacement for projector lamps on existing vehicles. These often use an LED low-beam, and a combined LED/laser high beam, where the laser diode shoots directly at the LED phosphor to excite it further, rather than using its own. These units often also come with fan cooling to keep the laser and LEDs below their maximum operational temperature. Such developments are exciting, though it’s important to be wary of the performance of unknown aftermarket headlights. Many aftermarket LED headlight “upgrades” fail to pass muster when it comes to real-world performance, and there’s no reason to believe hybrid LED/laser designs will be any different. We’d love to pass a selection of these parts through a full IIHS test protocol, but that’s sadly beyond the scope (and budget!) of this article.\n",
      "However, [mikeselectricstuff] has happened to lay his hands on both the BMW and aftermarket parts, tearing them all down in his workshop to see what makes them tick. The differences are multitude when laid bare on the bench. The AliExpress part is relatively simple, wired up no differently from a regular headlight. Interestingly, however, the laser high-beam circuit runs all the time in these parts. To prevent blinding other road users, a shutter is kept in place to block the light, which is moved out of the way with a solenoid when the driver turns on the high beam switch.\n",
      "Where the aftermarket part is a little out of left field, the BMW design is another thing entirely. The cutting-edge headlights are hooked up with multiple connectors and over 30 conductors, with much of the driver electronics living in an external controller. Much of this is to drive the various LEDs and stepper motors for slewing the headlights when steering. However, the laser assembly brings its own complexities. Twin light sensors are built inside to monitor the laser beam, and a special metal blocking arm sits directly in front of the diode, presumably to stop the laser light leaving the headlight in the event the phosphor coating burns through. It’s truly wild to get a look inside a modern luxury car’s headlight and see just how far we’ve come from the old days of simple sealed beams.\n",
      "Cost Versus Performance\n",
      "Despite the efficiency gains available, the technology remains expensive. Powerful laser diodes don’t come cheap, after all. However, as the technology trickles down to lower-end models, it’s likely that we could see economies of scale change that for the better. Indeed, if national authorities begin to demand higher performance headlights as standard, we could see laser headlights become the norm, rather than an expensive luxury. The technology could naturally be applied to home and commercial lighting, too — though we suspect the potential gains are limited enough that LED lighting will remain the norm for some time to come.\n",
      "The high light output of laser headlights in a compact package allows engineers greater freedom when designing the front-end of a car.\n",
      "As it currently stands, much of the appeal of the new technology is about the packaging benefits, which allow automotive designers greater freedom around the headlight area. Such concerns are less of a factor when it comes to light fittings in the home or office, or indeed, on lower-end automobiles. Regardless, it’s an exciting new application for lasers and one we’ll be sure to see more of in the future.\n",
      " \n",
      "\n",
      "\n",
      "\n",
      "\n",
      " \n",
      "\n",
      "\n",
      "\n",
      "\n",
      "\n",
      "\n",
      "\n",
      "\n",
      "\n",
      "\n",
      "\n",
      "\n",
      "\n",
      "\n",
      "\n",
      "\n",
      "\n",
      "\n",
      "\n",
      "Posted in car hacks, Engineering, Featured, Laser Hacks, SliderTagged laser, laser headlight, laser headlights, light \n",
      "\n"
     ]
    }
   ],
   "source": [
    "print(article_element.get_text())"
   ]
  },
  {
   "cell_type": "markdown",
   "metadata": {},
   "source": [
    "### Question 3"
   ]
  },
  {
   "cell_type": "markdown",
   "metadata": {},
   "source": [
    "3. Load the article text into a trained `spaCy` pipeline, and determine the 5 most frequent tokens (converted to lower case).  Print the common tokens with an appropriate label.  Additionally, print the tokens their frequencies (with appropriate labels). Make sure to remove things we don't care about (punctuation, stopwords, whitespace)."
   ]
  },
  {
   "cell_type": "code",
   "execution_count": 158,
   "metadata": {},
   "outputs": [
    {
     "name": "stdout",
     "output_type": "stream",
     "text": [
      "All Tokens: [Laser, Headlights, Work, 130, Comments, Lewin, Day, March, 22, 2021, think, onward, march, automotive, technology, headlights, usually, thing, come, mind, Engines, fuel, efficiency, switch, electric, power, mind, mean, thousands, engineers, world, working, improve, state, art, automotive, lighting, day, day, Sealed, beam, headlights, gave, way, modern, designs, regulations, loosened, bulbs, moved, simple, halogens, xenon, HIDs, recently, LEDs, new, technology, scene, lasers, Laser, Headlights, BWM, prototype, laser, headlight, assemblies, undergoing, testing, image, brought, mind, phrase, laser, headlights, laser, beams, firing, automobile, Obviously, coherent, beams, monochromatic, light, poor, illumination, outside, specific, spot, distance, away, Thankfully, eyes, laser, headlights, work, way, Instead, laser, headlights, consist, solid, state, laser, diodes, mounted, inside, headlight, blue, lasers, fired, yellow, phosphor, similar, white, LEDs, produces, powerful, vibrant, white, light, bounced, reflectors, headlights, road, Laser, headlights, built, way, benefits, energy, efficient, LEDs, light, space, efficient, BWM, futuristic, i8, vehicles, ship, laser, headlight, technology, Laser, headlights, nascent, technology, far, appearing, BMW, Audi, select, vehicles, BMW, technology, developed, partnership, lighting, experts, OSRAM, practice, regular, LED, low, beam, lamp, laser, create, incredibly, bright, focused, spot, high, beams, provide, illumination, 600, meters, ahead, vehicle, double, conventional, LED, high, beams, lights, use, indium, gallium, nitride, diode, lasers, originally, projectors, power, levels, 1, watt, challenges, implementing, technology, automotive, environment, need, operate, temperature, extremes, research, lasers, laser, pointers, primarily, typical, room, temperatures, automotive, headlights, able, withstand, 40, degrees, zero, 50, degrees, C., Thankfully, laser, high, efficiency, means, huge, heat, output, complicate, things, engineering, challenges, involve, tailoring, optics, package, rough, tumble, high, vibration, environment, found, automotive, application, important, ensure, device, end, user, exposed, harmful, laser, radiation, event, accident, malfunction, Tearing, Laser, Headlight, marketing, image, showing, construction, aftermarket, LED, laser, headlight, laser, power, grain, salt, difficult, imagine, 10, W, laser, shining, directly, small, LEDs, melting, hole, board, short, order, aftermarket, sprung, delightfully, innovative, designs, Combined, laser, LED, headlights, readily, available, Alibaba, designed, drop, replacement, projector, lamps, existing, vehicles, use, LED, low, beam, combined, LED, laser, high, beam, laser, diode, shoots, directly, LED, phosphor, excite, units, come, fan, cooling, laser, LEDs, maximum, operational, temperature, developments, exciting, important, wary, performance, unknown, aftermarket, headlights, aftermarket, LED, headlight, upgrades, fail, pass, muster, comes, real, world, performance, reason, believe, hybrid, LED, laser, designs, different, love, pass, selection, parts, IIHS, test, protocol, sadly, scope, budget, article, mikeselectricstuff, happened, lay, hands, BMW, aftermarket, parts, tearing, workshop, makes, tick, differences, multitude, laid, bare, bench, AliExpress, relatively, simple, wired, differently, regular, headlight, Interestingly, laser, high, beam, circuit, runs, time, parts, prevent, blinding, road, users, shutter, kept, place, block, light, moved, way, solenoid, driver, turns, high, beam, switch, aftermarket, little, left, field, BMW, design, thing, entirely, cutting, edge, headlights, hooked, multiple, connectors, 30, conductors, driver, electronics, living, external, controller, drive, LEDs, stepper, motors, slewing, headlights, steering, laser, assembly, brings, complexities, Twin, light, sensors, built, inside, monitor, laser, beam, special, metal, blocking, arm, sits, directly, diode, presumably, stop, laser, light, leaving, headlight, event, phosphor, coating, burns, truly, wild, look, inside, modern, luxury, car, headlight, far, come, old, days, simple, sealed, beams, Cost, Versus, Performance, Despite, efficiency, gains, available, technology, remains, expensive, Powerful, laser, diodes, come, cheap, technology, trickles, lower, end, models, likely, economies, scale, change, better, national, authorities, begin, demand, higher, performance, headlights, standard, laser, headlights, norm, expensive, luxury, technology, naturally, applied, home, commercial, lighting, suspect, potential, gains, limited, LED, lighting, remain, norm, time, come, high, light, output, laser, headlights, compact, package, allows, engineers, greater, freedom, designing, end, car, currently, stands, appeal, new, technology, packaging, benefits, allow, automotive, designers, greater, freedom, headlight, area, concerns, factor, comes, light, fittings, home, office, lower, end, automobiles, Regardless, exciting, new, application, lasers, sure, future, Posted, car, hacks, Engineering, Featured, Laser, Hacks, SliderTagged, laser, laser, headlight, laser, headlights, light]\n",
      "-----\n",
      "Frequency of top 5 tokens: [('laser', 29), ('headlights', 17), ('technology', 10), ('headlight', 10), ('LED', 10)]\n"
     ]
    }
   ],
   "source": [
    "from spacytextblob.spacytextblob import SpacyTextBlob\n",
    "nlp = spacy.load('en_core_web_sm')\n",
    "nlp.add_pipe('spacytextblob')\n",
    "doc = nlp(article_element.get_text())\n",
    "\n",
    "def frequent_tokens(token):\n",
    "    return not(token.is_space or token.is_punct or token.is_stop)\n",
    "\n",
    "interesting_tokens = [token for token in doc if frequent_tokens(token)]\n",
    "print('All Tokens:',interesting_tokens)\n",
    "print('-----')\n",
    "# 5 most frequent tokens\n",
    "\n",
    "word_freq = Counter(map(str,interesting_tokens))\n",
    "print('Frequency of top 5 tokens:', word_freq.most_common(5))\n",
    "\n"
   ]
  },
  {
   "cell_type": "markdown",
   "metadata": {},
   "source": [
    "### Question 4"
   ]
  },
  {
   "cell_type": "markdown",
   "metadata": {},
   "source": [
    "4. Load the article text into a trained `spaCy` pipeline, and determine the 5 most frequent lemmas (converted to lower case).  Print the common lemmas with an appropriate label.  Additionally, print the lemmas with their frequencies (with appropriate labels). Make sure to remove things we don't care about (punctuation, stopwords, whitespace)."
   ]
  },
  {
   "cell_type": "code",
   "execution_count": 159,
   "metadata": {},
   "outputs": [
    {
     "name": "stdout",
     "output_type": "stream",
     "text": [
      "[('laser', 40), ('headlight', 28), ('beam', 12), ('technology', 10), ('light', 10)]\n"
     ]
    }
   ],
   "source": [
    "interesting_lemmas = [token.lemma_.lower() for token in doc if frequent_tokens(token)]\n",
    "lemma_freq = Counter(interesting_lemmas)\n",
    "print(lemma_freq.most_common(5))"
   ]
  },
  {
   "cell_type": "code",
   "execution_count": 160,
   "metadata": {},
   "outputs": [
    {
     "name": "stdout",
     "output_type": "stream",
     "text": [
      "{'laser', 'technology', 'beam', 'headlight', 'light'}\n"
     ]
    }
   ],
   "source": [
    "#storing lemmas\n",
    "lemmas_q5 = set()\n",
    "for lemma, freq in lemma_freq.most_common(5):\n",
    "    lemmas_q5.add(lemma)\n",
    "print(lemmas_q5)"
   ]
  },
  {
   "cell_type": "markdown",
   "metadata": {},
   "source": [
    "### Question 5"
   ]
  },
  {
   "cell_type": "markdown",
   "metadata": {},
   "source": [
    "5. Define the following methods:\n",
    "    * `score_sentence_by_token(sentence, interesting_token)` that takes a sentence and a list of interesting token and returns the number of times that any of the interesting words appear in the sentence divided by the number of words in the sentence\n",
    "    * `score_sentence_by_lemma(sentence, interesting_lemmas)` that takes a sentence and a list of interesting lemmas and returns the number of times that any of the interesting lemmas appear in the sentence divided by the number of words in the sentence\n",
    "    \n",
    "You may find some of the code from the in class notes useful; feel free to use methods (rewrite them in this cell as well).  Test them by showing the score of the first sentence in your article using the frequent tokens and frequent lemmas identified in question 3."
   ]
  },
  {
   "cell_type": "code",
   "execution_count": 161,
   "metadata": {},
   "outputs": [],
   "source": [
    "\n",
    "def score_sentence_by_tokens(sentence, interesting_tokens):\n",
    "  nlp = spacy.load('en_core_web_sm')\n",
    "  doc = nlp(sentence)\n",
    "  number_of_tokens = sum(1 for token in doc if token.text.lower() in interesting_tokens)\n",
    "  \n",
    "  #calculating score\n",
    "  num_words_in_sentence = len(doc)\n",
    "  score = number_of_tokens/num_words_in_sentence\n",
    "  \n",
    "  return score"
   ]
  },
  {
   "cell_type": "code",
   "execution_count": 162,
   "metadata": {},
   "outputs": [],
   "source": [
    "def score_sentence_by_lemma(sentence, interesting_lemmas):\n",
    "  nlp = spacy.load('en_core_web_sm')\n",
    "  doc = nlp(sentence)\n",
    "  interesting_lemmas_set = set(interesting_lemmas)\n",
    "  number_of_lemmas = sum(1 for token in doc if token.lemma_.lower())\n",
    "\n",
    "# calculating score\n",
    "  num_words_in_sentence = len(doc)\n",
    "  score = number_of_lemmas/num_words_in_sentence\n",
    "\n",
    "  return score"
   ]
  },
  {
   "cell_type": "code",
   "execution_count": 163,
   "metadata": {},
   "outputs": [
    {
     "name": "stdout",
     "output_type": "stream",
     "text": [
      "Score of Tokens by Sentence: 0.08695652173913043\n",
      "Score of Lemmas by Sentence: 1.0\n"
     ]
    }
   ],
   "source": [
    "test_sentence = 'When we think about the onward march of automotive technology, headlights aren’t usually the first thing that come to mind.'\n",
    "print(\"Score of Tokens by Sentence:\", score_sentence_by_tokens(test_sentence,tokens_q5))\n",
    "print(\"Score of Lemmas by Sentence:\", score_sentence_by_lemma(test_sentence,lemmas_q5))"
   ]
  },
  {
   "cell_type": "markdown",
   "metadata": {},
   "source": [
    "### Question 6"
   ]
  },
  {
   "cell_type": "markdown",
   "metadata": {},
   "source": [
    "6. Make a list containing the scores (using tokens) of every sentence in the article, and plot a histogram with appropriate titles and axis labels of the scores. From your histogram, what seems to be the most common range of scores (put the answer in a comment after your code)?"
   ]
  },
  {
   "cell_type": "code",
   "execution_count": 164,
   "metadata": {},
   "outputs": [
    {
     "data": {
      "image/png": "[encoded data removed]",
      "text/plain": [
       "<Figure size 640x480 with 1 Axes>"
      ]
     },
     "metadata": {},
     "output_type": "display_data"
    }
   ],
   "source": [
    "def score_sentence_by_tokens(sentence, interesting_tokens):\n",
    "  nlp = spacy.load('en_core_web_sm')\n",
    "  doc = nlp(sentence)\n",
    "  \n",
    "  number_of_tokens = sum(1 for token in doc if token.text.lower() in interesting_tokens)\n",
    "  \n",
    "  #calculating score\n",
    "  num_words_in_sentence = len(doc)\n",
    "  score = number_of_tokens/num_words_in_sentence\n",
    "  \n",
    "  return score\n",
    "\n",
    "article_text = article_element.get_text()\n",
    "doc = nlp(article_text)\n",
    "\n",
    "sentences = [sent.text for sent in doc.sents]\n",
    "\n",
    "def frequent_tokens(token):\n",
    "  return not (token.is_space or token.is_punct or token.is_stop)\n",
    "\n",
    "interesting_tokens = [token.text.lower() for token in doc if frequent_tokens(token)]\n",
    "\n",
    "token_counter = Counter(interesting_tokens)\n",
    "top_5_tokens = [token for token, count in token_counter.most_common(5)]\n",
    "\n",
    "scores = [score_sentence_by_tokens(sentence,top_5_tokens) for sentence in sentences]\n",
    "\n",
    "#histogram\n",
    "plt.hist(scores, bins=10, edgecolor ='black')\n",
    "plt.xlabel('Score')\n",
    "plt.ylabel('Frequency')\n",
    "plt.title('Histogram of Scores for Sentences')\n",
    "plt.show()"
   ]
  },
  {
   "cell_type": "markdown",
   "metadata": {},
   "source": [
    "The most common ranges of scores falls between 0.0 & around .10"
   ]
  },
  {
   "cell_type": "markdown",
   "metadata": {},
   "source": [
    "### Question 7"
   ]
  },
  {
   "cell_type": "markdown",
   "metadata": {},
   "source": [
    "7. Make a list containing the scores (using lemmas) of every sentence in the article, and plot a histogram with appropriate titles and axis labels of the scores.  From your histogram, what seems to be the most common range of scores (put the answer in a comment after your code)?"
   ]
  },
  {
   "cell_type": "code",
   "execution_count": 165,
   "metadata": {},
   "outputs": [
    {
     "data": {
      "image/png": "[encoded data removed]",
      "text/plain": [
       "<Figure size 640x480 with 1 Axes>"
      ]
     },
     "metadata": {},
     "output_type": "display_data"
    }
   ],
   "source": [
    "def score_sentence_by_lemma(sentence, interesting_lemmas):\n",
    "  nlp = spacy.load('en_core_web_sm')\n",
    "  doc = nlp(sentence)\n",
    "  interesting_lemmas_set = set(interesting_lemmas)\n",
    "  number_of_lemmas = sum(1 for token in doc if token.lemma_.lower())\n",
    "\n",
    "# calculating score\n",
    "  num_words_in_sentence = len(doc)\n",
    "  score = number_of_lemmas/num_words_in_sentence\n",
    "\n",
    "  return score\n",
    "\n",
    "doc = nlp(article_text)\n",
    "\n",
    "def frequent_lemmas(token):\n",
    "  return not (token.is_space or token.is_punct or token.is_stop)\n",
    "\n",
    "interesting_lemmas = [token.lemma_.lower() for token in doc if frequent_lemmas(token)]\n",
    "\n",
    "lemma_counter = Counter(interesting_lemmas)\n",
    "\n",
    "top_5_lemmas = [lemma for lemma, count in lemma_counter.most_common(5)]\n",
    "\n",
    "scores = [score_sentence_by_lemma(sentence, top_5_lemmas) for sentence in sentences]\n",
    "\n",
    "plt.hist(scores, bins=10, edgecolor ='black')\n",
    "plt.xlabel('Score')\n",
    "plt.ylabel('Frequency')\n",
    "plt.title('Histogram of Scores for Sentences (Using Lemmas)')\n",
    "plt.show()"
   ]
  },
  {
   "cell_type": "markdown",
   "metadata": {},
   "source": [
    "The most common range for mine was the 1.0 score -- I don't have a strong feeling this is correct however, but based on how the code worked it is what was returned. I'll be curious to explore more and of my fellow students work to see where I may have gone wrong within the module. "
   ]
  },
  {
   "cell_type": "markdown",
   "metadata": {},
   "source": [
    "### Question 8"
   ]
  },
  {
   "cell_type": "markdown",
   "metadata": {},
   "source": [
    "8. Which tokens and lexems would be ommitted from the lists generated in questions 3 and 4 if we only wanted to consider nouns as interesting words?  How might we change the code to only consider nouns? Put your answer in this Markdown cell (you can edit it by double clicking it).\n",
    "\n",
    "SpaCy has a linguistic feature so we'd be able to add in token.pos -- the token position and set it to 'NOUN' to return only Nouns."
   ]
  },
  {
   "cell_type": "code",
   "execution_count": 166,
   "metadata": {},
   "outputs": [
    {
     "data": {
      "text/plain": [
       "0"
      ]
     },
     "execution_count": 166,
     "metadata": {},
     "output_type": "execute_result"
    }
   ],
   "source": [
    "import os\n",
    "os.system('jupyter nbconvert --to html web-scraping.ipynb')"
   ]
  }
 ],
 "metadata": {
  "kernelspec": {
   "display_name": "Python 3",
   "language": "python",
   "name": "python3"
  },
  "language_info": {
   "codemirror_mode": {
    "name": "ipython",
    "version": 3
   },
   "file_extension": ".py",
   "mimetype": "text/x-python",
   "name": "python",
   "nbconvert_exporter": "python",
   "pygments_lexer": "ipython3",
   "version": "3.10.9"
  }
 },
 "nbformat": 4,
 "nbformat_minor": 4
}
